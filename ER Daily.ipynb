{
 "cells": [
  {
   "cell_type": "markdown",
   "metadata": {},
   "source": [
    "Social Media:\n",
    "I recently had to improve this code for a process at work and decided to highlight it on my GitHub account. \n",
    "\n",
    "Introduction\n",
    "This could is simplifies the governence process for statistical reporting. Supervisors were having to conduct regular checks of employee reports. This took about one to two hours per day. A full-time admin assistant spent three to four days finding errors and making corrections per month. After implementing this script, supervisors are able to spend less than one hour per week and the administrative assistant tasks were almost completely resolved. The script interacts with Emergency Reporting NFIRS Module and JotForm API. "
   ]
  },
  {
   "cell_type": "code",
   "execution_count": 1,
   "id": "2632d05e",
   "metadata": {},
   "outputs": [],
   "source": [
    "import requests\n",
    "import json\n",
    "import smtplib\n",
    "from hcfmosecrets import *\n",
    "from email.message import EmailMessage\n",
    "\n",
    "#I did not setup a test enviroment, so I am using a variable to control if the script is in test or production mode. If you want to test, set the variable to 'test'. If you want to run in production, set the variable to 'prod'\n",
    "operationmode = 'test' \n",
    "\n",
    "#pull secret information\n",
    "\n",
    "\n",
    "\n",
    "smtp_server = smtplib.SMTP(smtp_address)\n",
    "tokenURL = 'https://login.microsoftonline.com/login.emergencyreporting.com/oauth2/v2.0/token'\n",
    "allexposuresURL = 'https://data.emergencyreporting.com/agencyincidents/incidents/exposures'\n",
    "getuserURL = 'https://data.emergencyreporting.com/agencyusers/users/'\n",
    "\n",
    "summary = []\n",
    "exposures = []\n",
    "exposures_offset = 0\n",
    "\n",
    "# get user information from Emergency Reporting for a specific userID\n",
    "def getUser(userID):\n",
    "    resp = requests.get('https://data.emergencyreporting.com/agencyusers/users/'+ userID,headers=requestheaders)\n",
    "    response = resp.json()\n",
    "    name = response[\"user\"][\"fullName\"]\n",
    "    email = response[\"user\"][\"email\"]\n",
    "    rtn = [name, email]\n",
    "    return rtn\n",
    "\n",
    "# get location data from Emergency Reporting for a specific exposureID\n",
    "def getLocation(exposureID):\n",
    "    resp = requests.get('https://data.emergencyreporting.com/agencyincidents/exposures/' + exposureID + '/location',\n",
    "                        headers=requestheaders)\n",
    "    response = resp.json()\n",
    "    location = response[\"exposureLocation\"][\"milePostNumber\"] + \" \" + response[\"exposureLocation\"][\"streetPrefix\"] + \" \" + response[\"exposureLocation\"][\"streetName\"] + \" \" + response[\"exposureLocation\"][\"streetType\"] + \" \" + response[\"exposureLocation\"][\"streetSuffix\"]\n",
    "    return location\n",
    "\n",
    "# get incident data from Emergency Reporting for a specific incidentID\n",
    "def getincidentdata(incidentID): \n",
    "    resp = requests.get('https://data.emergencyreporting.com/agencyincidents/incidents/' + incidentID,\n",
    "                        headers=requestheaders)\n",
    "    response = resp.json()\n",
    "    incidentData = [response[\"incident\"][\"incidentDateTime\"],response[\"incident\"][\"incidentNumber\"]]\n",
    "    return incidentData    \n",
    "    \n",
    "\n",
    "\n",
    "## setup variables for token call from Emergency Reporting\n",
    "tokenbody = {\n",
    "    \"grant_type\":\"client_credentials\",\n",
    "    \"client_id\": ER_client_id,\n",
    "    \"client_secret\": ER_client_secret,\n",
    "    \"scope\":\"https://login.emergencyreporting.com/secure/.default offline_access\"\n",
    "}\n",
    "tokenheaders = {\n",
    "'content-type':'application/x-www-form-urlencoded'\n",
    "}\n",
    "tokenresponse = requests.post(tokenURL,data=tokenbody,headers=tokenheaders)\n",
    "\n",
    "#place token and key for future use\n",
    "tokenresponsejson = tokenresponse.json()\n",
    "token = tokenresponsejson[\"access_token\"]\n",
    "key = ER_token\n",
    "\n",
    "requestheaders = {\n",
    "    \"Authorization\":token,\n",
    "    \"Ocp-Apim-Subscription-Key\":key\n",
    "}\n",
    "\n",
    "\n"
   ]
  },
  {
   "cell_type": "code",
   "execution_count": 2,
   "id": "7ebda1a7",
   "metadata": {},
   "outputs": [
    {
     "name": "stdout",
     "output_type": "stream",
     "text": [
      "10\n"
     ]
    }
   ],
   "source": [
    "\n",
    "#retrieve initial exposures, this only pulls ten exposures at a time\n",
    "response = requests.get(allexposuresURL + \"?filter=completedByUserID eq null\", headers=requestheaders)\n",
    "incon_exposures = response.json()\n",
    "#print(incon_exposures[\"exposures\"][0])\n",
    "\n",
    "#Iterate through the list and filter out anything not investigations, then append exposures into exposures list\n",
    "for each in incon_exposures['exposures']:\n",
    "    if each[\"shiftsOrPlatoon\"] == \"Investigations\":\n",
    "        e = { 'exposureID': each[\"exposureID\"], 'incidentID': each['incidentID'],  'assignedToUserID': each[\"assignedToUserID\"], 'completedByUserID': each[\"completedByUserID\"], 'incidentType': each[\"incidentType\"] }\n",
    "        exposures.append(e)\n",
    "\n",
    "#if it returned more than 0, gather another ten exposures and append them to the list\n",
    "while len(incon_exposures['exposures']) != 0:\n",
    "    exposures_offset += 10\n",
    "    print(exposures_offset)\n",
    "    offsetURL = allexposuresURL+\"?offset=\"+str(exposures_offset)+\"&filter=completedByUserID eq null\"\n",
    "    response = requests.get(offsetURL, headers=requestheaders)\n",
    "    incon_exposures = response.json()\n",
    "\n",
    "    for each in incon_exposures['exposures']:\n",
    "        if each[\"shiftsOrPlatoon\"] == \"Investigations\":\n",
    "            e = { 'exposureID': each[\"exposureID\"], 'incidentID': each['incidentID'],  'assignedToUserID': each[\"assignedToUserID\"], 'completedByUserID': each[\"completedByUserID\"], 'incidentType': each[\"incidentType\"] }\n",
    "            exposures.append(e)\n"
   ]
  },
  {
   "cell_type": "markdown",
   "metadata": {},
   "source": [
    "Temporarily disabling the section below, think it's a duplicate"
   ]
  },
  {
   "cell_type": "code",
   "execution_count": 3,
   "id": "62981bb9",
   "metadata": {},
   "outputs": [
    {
     "name": "stdout",
     "output_type": "stream",
     "text": [
      "{'exposureID': '70928769', 'incidentID': '71117320', 'shiftsOrPlatoon': 'Investigations', 'incidentType': '138', 'assignedToUserID': '152097', 'aidGivenOrReceived': 'N', 'hazmatReleased': 'N', 'primaryActionTaken': '86', 'secondaryActionTaken': None, 'thirdActionTaken': None, 'completedByUserID': None, 'reviewedByUserID': None, 'completedDateTime': None, 'reviewedDateTime': None, 'psapDateTime': '2023-01-05 12:14:34', 'dispatchNotifiedDateTime': None, 'initialResponderDateTime': None, 'hasPropertyLoss': '1', 'propertyLossAmount': None, 'hasContentLoss': '1', 'contentLossAmount': None, 'hasPreIncidentPropertyValue': '1', 'preIncidentPropertyValueAmount': None, 'hasPreIncidentContentsValue': '1', 'preIncidentContentsValueAmount': None, 'complaintReportedByDispatch': None, 'rowVersion': '0000000A811F8FD1'}\n"
     ]
    }
   ],
   "source": [
    "# response = requests.get(allexposuresURL + \"?filter=completedByUserID eq null\", headers=requestheaders)\n",
    "# incon_exposures = response.json()\n",
    "# print(incon_exposures[\"exposures\"][0])"
   ]
  },
  {
   "cell_type": "code",
   "execution_count": 3,
   "id": "e2b0917f",
   "metadata": {},
   "outputs": [],
   "source": [
    "## come back and add additional code to grab all incomplete, loop and offset  \n",
    "for each in exposures:\n",
    "    if each[\"assignedToUserID\"] is None:\n",
    "        print(\"No user assigned to this incident\", each[\"incidentID\"])\n",
    "    else:\n",
    "        user = getUser(each[\"assignedToUserID\"])\n",
    "        print(user)\n",
    "        location = getLocation(each[\"exposureID\"])\n",
    "        incidentdata = getincidentdata(each[\"incidentID\"])\n",
    "    \n",
    "        msgContent = \"You have an incomplete incident assigned to you in Emergency Reporting. See incident 2022-\" + incidentdata[1] + \" for a NFIRS \" + each[\"incidentType\"] + \" type call, located at \" + location + \". This incident occured on \" + incidentdata[0] + \". \\n Please complete this report during your next shift. Thank you.\"\n",
    "        message = EmailMessage()\n",
    "        message.set_content(msgContent)\n",
    "        message['Subject'] = 'Incomplete ER 2022-' + incidentdata[1]\n",
    "        message['From'] = 'arsonsup@fmo.hctx.net'\n",
    "        if operationmode == 'prod':\n",
    "            message['To'] = user[1]\n",
    "        else:\n",
    "            message['To'] = 'james.singleton@fmo.hctx.net'\n",
    "        \n",
    "        smtp_server.send_message(message)\n",
    "        print(\"message sent to \", user[1])\n",
    "        summary.append({\"Investigator\": user[1], \"incident\": incidentdata[1] })\n",
    "\n"
   ]
  },
  {
   "cell_type": "code",
   "execution_count": null,
   "id": "83cfff1f",
   "metadata": {},
   "outputs": [],
   "source": []
  },
  {
   "cell_type": "code",
   "execution_count": 4,
   "id": "4a4c6198",
   "metadata": {},
   "outputs": [
    {
     "name": "stdout",
     "output_type": "stream",
     "text": [
      "The automated system has sent reminders to \n",
      "Investigator \tIncident Number \n",
      "\n"
     ]
    }
   ],
   "source": [
    "msgContent = \"The automated system has sent reminders to \\n\"\n",
    "msgContent += \"Investigator \\tIncident Number \\n\"\n",
    "\n",
    "for r in summary:\n",
    "    msgContent += r[\"Investigator\"]\n",
    "    msgContent += \"\\t\"\n",
    "    msgContent += \"2022-\" + r[\"incident\"]\n",
    "    msgContent += \"\\n\"\n",
    "\n",
    "message = EmailMessage()\n",
    "message.set_content(msgContent)\n",
    "message['Subject'] = 'Incomplete ER Reports'\n",
    "message['From'] = 'arsonsup@fmo.hctx.net'\n",
    "if operationmode == 'prod':\n",
    "    message['Cc'] = ['tonya.spencer@fmo.hctx.net','kyle.pulley@fmo.hctx.net']\n",
    "message['To'] = 'james.singleton@fmo.hctx.net'\n",
    "      \n",
    "smtp_server.send_message(message)\n",
    "print(msgContent)\n",
    "\n",
    "\n"
   ]
  },
  {
   "cell_type": "code",
   "execution_count": 5,
   "id": "cbb74ceb",
   "metadata": {},
   "outputs": [
    {
     "ename": "IndexError",
     "evalue": "list index out of range",
     "output_type": "error",
     "traceback": [
      "\u001b[1;31m---------------------------------------------------------------------------\u001b[0m",
      "\u001b[1;31mIndexError\u001b[0m                                Traceback (most recent call last)",
      "\u001b[1;32mc:\\Users\\singl\\OneDrive - Harris County\\Maintenance Statistics\\Scripts\\ER Daily.ipynb Cell 9\u001b[0m line \u001b[0;36m<cell line: 10>\u001b[1;34m()\u001b[0m\n\u001b[0;32m      <a href='vscode-notebook-cell:/c%3A/Users/singl/OneDrive%20-%20Harris%20County/Maintenance%20Statistics/Scripts/ER%20Daily.ipynb#W6sZmlsZQ%3D%3D?line=7'>8</a>\u001b[0m response \u001b[39m=\u001b[39m requests\u001b[39m.\u001b[39mget(allexposuresURL \u001b[39m+\u001b[39m \u001b[39m\"\u001b[39m\u001b[39m?filter=reviewedByUserID eq null\u001b[39m\u001b[39m\"\u001b[39m, headers\u001b[39m=\u001b[39mrequestheaders)\n\u001b[0;32m      <a href='vscode-notebook-cell:/c%3A/Users/singl/OneDrive%20-%20Harris%20County/Maintenance%20Statistics/Scripts/ER%20Daily.ipynb#W6sZmlsZQ%3D%3D?line=8'>9</a>\u001b[0m incon_exposures \u001b[39m=\u001b[39m response\u001b[39m.\u001b[39mjson()\n\u001b[1;32m---> <a href='vscode-notebook-cell:/c%3A/Users/singl/OneDrive%20-%20Harris%20County/Maintenance%20Statistics/Scripts/ER%20Daily.ipynb#W6sZmlsZQ%3D%3D?line=9'>10</a>\u001b[0m \u001b[39mprint\u001b[39m(incon_exposures[\u001b[39m\"\u001b[39;49m\u001b[39mexposures\u001b[39;49m\u001b[39m\"\u001b[39;49m][\u001b[39m8\u001b[39;49m])\n\u001b[0;32m     <a href='vscode-notebook-cell:/c%3A/Users/singl/OneDrive%20-%20Harris%20County/Maintenance%20Statistics/Scripts/ER%20Daily.ipynb#W6sZmlsZQ%3D%3D?line=11'>12</a>\u001b[0m \u001b[39m#append exposures into exposures list\u001b[39;00m\n\u001b[0;32m     <a href='vscode-notebook-cell:/c%3A/Users/singl/OneDrive%20-%20Harris%20County/Maintenance%20Statistics/Scripts/ER%20Daily.ipynb#W6sZmlsZQ%3D%3D?line=12'>13</a>\u001b[0m \u001b[39mfor\u001b[39;00m each \u001b[39min\u001b[39;00m incon_exposures[\u001b[39m'\u001b[39m\u001b[39mexposures\u001b[39m\u001b[39m'\u001b[39m]:\n",
      "\u001b[1;31mIndexError\u001b[0m: list index out of range"
     ]
    }
   ],
   "source": [
    "### reset variables\n",
    "exposures = []\n",
    "exposures_offset = 0\n",
    "### QC reports already submitted\n",
    "\n",
    "\n",
    "#retrieve initial exposures\n",
    "response = requests.get(allexposuresURL + \"?filter=reviewedByUserID eq null\", headers=requestheaders)\n",
    "incon_exposures = response.json()\n",
    "print(incon_exposures[\"exposures\"][8])\n",
    "\n",
    "#append exposures into exposures list\n",
    "for each in incon_exposures['exposures']:\n",
    "    if each[\"shiftsOrPlatoon\"] == \"Investigations\":\n",
    "        e = { 'exposureID': each[\"exposureID\"], 'incidentID': each['incidentID'],  'assignedToUserID': each[\"assignedToUserID\"], 'completedByUserID': each[\"completedByUserID\"], 'incidentType': each[\"incidentType\"], 'completedDateTime': each[\"completedDateTime\"] }\n",
    "        exposures.append(e)\n",
    "\n",
    "#if more than 10 exposures, then gather next set\n",
    "while len(incon_exposures['exposures']) != 0:\n",
    "    exposures_offset += 10\n",
    "    print(exposures_offset)\n",
    "    offsetURL = allexposuresURL+\"?offset=\"+str(exposures_offset)+\"&filter=reviewedByUserID eq null\"\n",
    "    response = requests.get(offsetURL, headers=requestheaders)\n",
    "    incon_exposures = response.json()\n",
    "\n",
    "    for each in incon_exposures['exposures']:\n",
    "        if each[\"shiftsOrPlatoon\"] == \"Investigations\":\n",
    "            e = { 'exposureID': each[\"exposureID\"], 'incidentID': each['incidentID'],  'assignedToUserID': each[\"assignedToUserID\"], 'completedByUserID': each[\"completedByUserID\"], 'incidentType': each[\"incidentType\"], 'completedDateTime': each[\"completedDateTime\"] }\n",
    "            exposures.append(e)\n",
    "\n"
   ]
  },
  {
   "cell_type": "code",
   "execution_count": 6,
   "id": "a72d3c6c",
   "metadata": {},
   "outputs": [
    {
     "ename": "IndexError",
     "evalue": "list index out of range",
     "output_type": "error",
     "traceback": [
      "\u001b[1;31m---------------------------------------------------------------------------\u001b[0m",
      "\u001b[1;31mIndexError\u001b[0m                                Traceback (most recent call last)",
      "\u001b[1;32mc:\\Users\\singl\\OneDrive - Harris County\\Maintenance Statistics\\Scripts\\ER Daily.ipynb Cell 10\u001b[0m line \u001b[0;36m<cell line: 1>\u001b[1;34m()\u001b[0m\n\u001b[1;32m----> <a href='vscode-notebook-cell:/c%3A/Users/singl/OneDrive%20-%20Harris%20County/Maintenance%20Statistics/Scripts/ER%20Daily.ipynb#X10sZmlsZQ%3D%3D?line=0'>1</a>\u001b[0m \u001b[39mprint\u001b[39m(exposures[\u001b[39m1\u001b[39;49m])\n",
      "\u001b[1;31mIndexError\u001b[0m: list index out of range"
     ]
    }
   ],
   "source": [
    "print(exposures[1])"
   ]
  },
  {
   "cell_type": "code",
   "execution_count": 22,
   "id": "4785153a",
   "metadata": {},
   "outputs": [
    {
     "name": "stdout",
     "output_type": "stream",
     "text": [
      "['2023-01-03 03:59:47.000', '000316']\n"
     ]
    }
   ],
   "source": [
    "incident = getincidentdata(\"71066301\")\n",
    "print(incident)"
   ]
  },
  {
   "cell_type": "code",
   "execution_count": null,
   "id": "f9f7752a",
   "metadata": {},
   "outputs": [],
   "source": [
    "smtp_server.quit()\n",
    "exit()"
   ]
  }
 ],
 "metadata": {
  "kernelspec": {
   "display_name": "Python 3 (ipykernel)",
   "language": "python",
   "name": "python3"
  },
  "language_info": {
   "codemirror_mode": {
    "name": "ipython",
    "version": 3
   },
   "file_extension": ".py",
   "mimetype": "text/x-python",
   "name": "python",
   "nbconvert_exporter": "python",
   "pygments_lexer": "ipython3",
   "version": "3.10.11"
  }
 },
 "nbformat": 4,
 "nbformat_minor": 5
}
